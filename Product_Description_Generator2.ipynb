{
  "nbformat": 4,
  "nbformat_minor": 0,
  "metadata": {
    "colab": {
      "provenance": [],
      "authorship_tag": "ABX9TyPqsxDR12CYyKFOdboT1FPa",
      "include_colab_link": true
    },
    "kernelspec": {
      "name": "python3",
      "display_name": "Python 3"
    },
    "language_info": {
      "name": "python"
    }
  },
  "cells": [
    {
      "cell_type": "markdown",
      "metadata": {
        "id": "view-in-github",
        "colab_type": "text"
      },
      "source": [
        "<a href=\"https://colab.research.google.com/github/SnehaGhosh10/Product-description-generator/blob/main/Product_Description_Generator2.ipynb\" target=\"_parent\"><img src=\"https://colab.research.google.com/assets/colab-badge.svg\" alt=\"Open In Colab\"/></a>"
      ]
    },
    {
      "cell_type": "code",
      "source": [
        "!pip install -q python-dotenv\n",
        "\n",
        "from dotenv import load_dotenv\n",
        "load_dotenv()"
      ],
      "metadata": {
        "colab": {
          "base_uri": "https://localhost:8080/"
        },
        "id": "CjVh7RxdqYSj",
        "outputId": "c1f0ed64-f53a-468d-eaf5-4ae07b89f31c"
      },
      "execution_count": null,
      "outputs": [
        {
          "output_type": "execute_result",
          "data": {
            "text/plain": [
              "True"
            ]
          },
          "metadata": {},
          "execution_count": 2
        }
      ]
    },
    {
      "cell_type": "code",
      "source": [
        "import os\n",
        "\n",
        "api_key = os.getenv(\"GROQ_API_KEY\")\n",
        "print(\"Groq API Key loaded securely:\", api_key[:5] + \"...\")"
      ],
      "metadata": {
        "colab": {
          "base_uri": "https://localhost:8080/"
        },
        "id": "mazfRVqhqb-O",
        "outputId": "dfbd5152-249e-4efc-ebfb-4f1c2309d748"
      },
      "execution_count": null,
      "outputs": [
        {
          "output_type": "stream",
          "name": "stdout",
          "text": [
            "Groq API Key loaded securely: gsk_o...\n"
          ]
        }
      ]
    },
    {
      "cell_type": "code",
      "source": [
        "!pip install -q langchain-groq\n",
        "from langchain_groq import ChatGroq\n",
        "from langchain.chains import LLMChain\n",
        "from langchain.prompts import PromptTemplate\n",
        "\n",
        "llm = ChatGroq(temperature=0.7, model_name=\"llama3-8b-8192\")\n"
      ],
      "metadata": {
        "id": "4tJAZH6HqkyM"
      },
      "execution_count": null,
      "outputs": []
    },
    {
      "cell_type": "code",
      "source": [
        "title_prompt = PromptTemplate(\n",
        "    input_variables=[\"product_name\", \"features\"],\n",
        "    template=\"\"\"\n",
        "Generate one unique, catchy, and brandable **product title** for the following:\n",
        "\n",
        "Product Name: {product_name}\n",
        "Features: {features}\n",
        "\n",
        "The output should be a single product title only, no bullets or explanation.\n",
        "\"\"\"\n",
        ")\n",
        "\n"
      ],
      "metadata": {
        "id": "BOYV7NJ7q2h_"
      },
      "execution_count": null,
      "outputs": []
    },
    {
      "cell_type": "code",
      "source": [
        "description_prompt = PromptTemplate(\n",
        "    input_variables=[\"title\", \"features\"],\n",
        "    template=\"Using the product title: {title} and its features: {features}, write a persuasive and marketing-optimized product description for an e-commerce listing. Highlight benefits and keep it under 60 words.\"\n",
        ")\n"
      ],
      "metadata": {
        "id": "f0PWckcvq8-r"
      },
      "execution_count": null,
      "outputs": []
    },
    {
      "cell_type": "code",
      "source": [
        "caption_prompt = PromptTemplate(\n",
        "    input_variables=[\"title\", \"description\", \"tone_modifier\"],\n",
        "    template=\"Using the product title: {title} and description: {description}, generate a short, engaging social media caption suitable for Instagram, Twitter, and LinkedIn. Use the keyword or tone modifier: {tone_modifier}. Include 1–2 hashtags.\"\n",
        ")\n"
      ],
      "metadata": {
        "id": "uP0xvKkFq_bd"
      },
      "execution_count": null,
      "outputs": []
    },
    {
      "cell_type": "code",
      "source": [
        "title_chain = LLMChain(llm=llm, prompt=title_prompt, output_key=\"title\")\n",
        "description_chain = LLMChain(llm=llm, prompt=description_prompt, output_key=\"description\")\n",
        "caption_chain = LLMChain(llm=llm, prompt=caption_prompt, output_key=\"social_caption\")\n"
      ],
      "metadata": {
        "id": "yiQ-jpRXrCPm"
      },
      "execution_count": null,
      "outputs": []
    },
    {
      "cell_type": "code",
      "source": [
        "from langchain.chains import SequentialChain\n",
        "\n",
        "sequential_chain = SequentialChain(\n",
        "    chains=[title_chain, description_chain, caption_chain],\n",
        "    input_variables=[\"product_name\", \"features\", \"tone_modifier\"],\n",
        "    output_variables=[\"title\", \"description\", \"social_caption\"],\n",
        "    verbose=True\n",
        ")\n"
      ],
      "metadata": {
        "id": "G3GiZkEOrGMI"
      },
      "execution_count": null,
      "outputs": []
    },
    {
      "cell_type": "code",
      "source": [
        "user_input = {\n",
        "    \"product_name\": \"Wireless Earbuds\",\n",
        "    \"features\": \"Noise cancellation, 12-hour battery life, Bluetooth 5.3\",\n",
        "    \"tone_modifier\": \"tech gift\"\n",
        "}\n",
        "output = sequential_chain.invoke(user_input)\n",
        "\n"
      ],
      "metadata": {
        "colab": {
          "base_uri": "https://localhost:8080/"
        },
        "id": "Mld9sZgIrJtt",
        "outputId": "097535ed-5cfd-4830-eb19-383875d02728"
      },
      "execution_count": null,
      "outputs": [
        {
          "output_type": "stream",
          "name": "stdout",
          "text": [
            "\n",
            "\n",
            "\u001b[1m> Entering new SequentialChain chain...\u001b[0m\n",
            "\n",
            "\u001b[1m> Finished chain.\u001b[0m\n"
          ]
        }
      ]
    },
    {
      "cell_type": "code",
      "source": [
        "print(\" Product Title:\", output['title'])\n",
        "print(\"\\n Product Description:\\n\", output['description'].strip('\"'))\n",
        "\n",
        "print(\"\\n Social Media Captions:\")\n",
        "print(output['social_caption'])\n",
        "\n",
        "print(\"\\n Input Summary:\")\n",
        "print(\"Product Name:\", output['product_name'])\n",
        "print(\"Features:\", output['features'])\n",
        "print(\"Tone Modifier:\", output['tone_modifier'])"
      ],
      "metadata": {
        "colab": {
          "base_uri": "https://localhost:8080/"
        },
        "id": "LW2V7pDbtUmb",
        "outputId": "bfc4bc04-a699-41a2-870f-3d7345f9d6f1"
      },
      "execution_count": null,
      "outputs": [
        {
          "output_type": "stream",
          "name": "stdout",
          "text": [
            " Product Title: EchoFlex\n",
            "\n",
            " Product Description:\n",
            " Immerse yourself in crystal-clear sound with EchoFlex, featuring advanced noise cancellation and 12-hour battery life. Stream effortlessly with Bluetooth 5.3 connectivity. Enjoy uninterrupted music, calls, and podcasts all day long. Upgrade your audio experience with EchoFlex, perfect for travelers, commuters, and music lovers alike.\n",
            "\n",
            " Social Media Captions:\n",
            "Here are three social media captions for EchoFlex:\n",
            "\n",
            "**Instagram:**\n",
            "\"Level up your audio game with EchoFlex! This tech gift features advanced noise cancellation and 12-hour battery life, perfect for music lovers on-the-go. Stream effortlessly with Bluetooth 5.3 connectivity and enjoy uninterrupted music, calls, and podcasts all day long. #TechGift\"\n",
            "\n",
            "**Twitter:**\n",
            "\"Give the gift of crystal-clear sound with EchoFlex! Advanced noise cancellation, 12-hour battery life, and Bluetooth 5.3 connectivity make it the perfect tech gift for travelers, commuters, and music lovers alike. #TechGift\"\n",
            "\n",
            "**LinkedIn:**\n",
            "\"Upgrade your audio experience with EchoFlex, the ultimate tech gift for professionals and music enthusiasts alike. With advanced noise cancellation, 12-hour battery life, and seamless Bluetooth connectivity, EchoFlex is perfect for long commutes, business meetings, or simply enjoying your favorite tunes. Treat yourself or gift it to a colleague - either way, it's a game-changer!\"\n",
            "\n",
            " Input Summary:\n",
            "Product Name: Wireless Earbuds\n",
            "Features: Noise cancellation, 12-hour battery life, Bluetooth 5.3\n",
            "Tone Modifier: tech gift\n"
          ]
        }
      ]
    }
  ]
}