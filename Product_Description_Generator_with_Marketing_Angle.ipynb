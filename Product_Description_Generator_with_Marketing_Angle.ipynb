{
  "nbformat": 4,
  "nbformat_minor": 0,
  "metadata": {
    "colab": {
      "provenance": [],
      "authorship_tag": "ABX9TyNE1OpBzJw0HJKNBvoSKvNE",
      "include_colab_link": true
    },
    "kernelspec": {
      "name": "python3",
      "display_name": "Python 3"
    },
    "language_info": {
      "name": "python"
    }
  },
  "cells": [
    {
      "cell_type": "markdown",
      "metadata": {
        "id": "view-in-github",
        "colab_type": "text"
      },
      "source": [
        "<a href=\"https://colab.research.google.com/github/SnehaGhosh10/Product-description-generator/blob/main/Product_Description_Generator_with_Marketing_Angle.ipynb\" target=\"_parent\"><img src=\"https://colab.research.google.com/assets/colab-badge.svg\" alt=\"Open In Colab\"/></a>"
      ]
    },
    {
      "cell_type": "code",
      "source": [
        "!pip install -q python-dotenv\n",
        "\n",
        "from dotenv import load_dotenv\n",
        "load_dotenv()"
      ],
      "metadata": {
        "colab": {
          "base_uri": "https://localhost:8080/"
        },
        "id": "zqRvQc-TlGPH",
        "outputId": "08e44875-cafe-4645-f8be-ea00e7cb396b"
      },
      "execution_count": null,
      "outputs": [
        {
          "output_type": "execute_result",
          "data": {
            "text/plain": [
              "True"
            ]
          },
          "metadata": {},
          "execution_count": 2
        }
      ]
    },
    {
      "cell_type": "code",
      "source": [
        "import os\n",
        "\n",
        "api_key = os.getenv(\"GROQ_API_KEY\")\n",
        "print(\"Groq API Key loaded securely:\", api_key[:5] + \"...\")"
      ],
      "metadata": {
        "colab": {
          "base_uri": "https://localhost:8080/"
        },
        "id": "XJLxpVdblLZj",
        "outputId": "41148d2d-9ee2-4fbc-e710-88ddcf22310c"
      },
      "execution_count": null,
      "outputs": [
        {
          "output_type": "stream",
          "name": "stdout",
          "text": [
            "Groq API Key loaded securely: gsk_o...\n"
          ]
        }
      ]
    },
    {
      "cell_type": "code",
      "source": [
        "!pip install -q requests"
      ],
      "metadata": {
        "id": "tIYmOa5tlVjd"
      },
      "execution_count": null,
      "outputs": []
    },
    {
      "cell_type": "code",
      "source": [
        "def generate_title(product_name, features):\n",
        "    prompt = (\n",
        "        f\"Generate a catchy and creative product title for an e-commerce listing.\\n\"\n",
        "        f\"Product Name: {product_name}\\n\"\n",
        "        f\"Features: {features}\\n\"\n",
        "        f\"Title:\"\n",
        "    )\n",
        "    response = call_groq_chat(prompt)\n",
        "    return response if response else \"ERROR: Title generation failed.\"\n",
        "\n",
        "def generate_description(title):\n",
        "    prompt = (\n",
        "        f\"Write a compelling, marketing-optimized product description for the following product title:\\n\"\n",
        "        f\"Title: {title}\\n\"\n",
        "        f\"Description:\"\n",
        "    )\n",
        "    response = call_groq_chat(prompt)\n",
        "    return response if response else \"ERROR: Description generation failed.\"\n",
        "\n",
        "def generate_caption(title, description):\n",
        "    prompt = (\n",
        "        f\"Create a short, engaging social media caption with SEO keywords for the product below:\\n\"\n",
        "        f\"Title: {title}\\n\"\n",
        "        f\"Description: {description}\\n\"\n",
        "        f\"Caption:\"\n",
        "    )\n",
        "    response = call_groq_chat(prompt)\n",
        "    return response if response else \"ERROR: Caption generation failed.\"\n",
        "\n"
      ],
      "metadata": {
        "id": "Sjeo5ZKdleZe"
      },
      "execution_count": null,
      "outputs": []
    },
    {
      "cell_type": "code",
      "source": [
        "def call_groq_chat(prompt, model=\"llama3-70b-8192\", temperature=0.7, max_tokens=300):\n",
        "    url = \"https://api.groq.com/openai/v1/chat/completions\"\n",
        "    headers = {\n",
        "        \"Authorization\": f\"Bearer {os.environ['GROQ_API_KEY']}\",\n",
        "        \"Content-Type\": \"application/json\"\n",
        "    }\n",
        "    payload = {\n",
        "        \"model\": model,\n",
        "        \"messages\": [{\"role\": \"user\", \"content\": prompt}],\n",
        "        \"temperature\": temperature,\n",
        "        \"max_tokens\": max_tokens\n",
        "    }\n",
        "\n",
        "    try:\n",
        "        response = requests.post(url, headers=headers, json=payload)\n",
        "        response.raise_for_status()\n",
        "        return response.json()[\"choices\"][0][\"message\"][\"content\"].strip()\n",
        "    except requests.exceptions.RequestException as e:\n",
        "        print(f\"❌ Groq API request failed: {e}\")\n",
        "        print(\"🔍 Response:\", response.text if 'response' in locals() else \"No response\")\n",
        "        return \"ERROR\"\n"
      ],
      "metadata": {
        "id": "X0zUvzg0nr1y"
      },
      "execution_count": null,
      "outputs": []
    },
    {
      "cell_type": "code",
      "source": [
        "# Example Input\n",
        "product_name = \"Wireless Earbuds\"\n",
        "features = \"Noise cancellation, 12-hour battery life, Bluetooth 5.3\"\n",
        "\n",
        "# Step-by-step execution\n",
        "title = generate_title(product_name, features)\n",
        "description = generate_description(title)\n",
        "caption = generate_caption(title, description)\n",
        "\n",
        "# Display Outputs\n",
        "print(\"🔹 Title:\\n\", title)\n",
        "print(\"\\n🔹 Description:\\n\", description)\n",
        "print(\"\\n🔹 Social Media Caption:\\n\", caption)"
      ],
      "metadata": {
        "colab": {
          "base_uri": "https://localhost:8080/"
        },
        "id": "iITaDpzEm8Xn",
        "outputId": "67e4403d-01fd-4231-be4c-6f3538662a56"
      },
      "execution_count": null,
      "outputs": [
        {
          "output_type": "stream",
          "name": "stdout",
          "text": [
            "🔹 Title:\n",
            " Here are some catchy and creative product title options for your wireless earbuds e-commerce listing:\n",
            "\n",
            "1. **Silence Unplugged: Proxima Wireless Earbuds with Noise Cancellation**\n",
            "2. **SoundWave Freedom: 12-Hour Wireless Earbuds with Advanced Noise Cancellation**\n",
            "3. **PureAudio Bliss: Long-Lasting Wireless Earbuds with Bluetooth 5.3**\n",
            "4. **Escape the Noise: Elite Wireless Earbuds with 12 Hours of Uninterrupted Sound**\n",
            "5. **Liberty Buds: Wireless Earbuds with Noise Cancellation and All-Day Battery Life**\n",
            "6. **Tune In, Zone Out: Advanced Wireless Earbuds with 12-Hour Playtime**\n",
            "7. **SonicShield: Wireless Earbuds with Noise Cancellation and Seamless Connectivity**\n",
            "8. **Endless Groove: 12-Hour Wireless Earbuds with Bluetooth 5.3 and Noise Cancellation**\n",
            "9. **Unplug and Unwind: Premium Wireless Earbuds with Advanced Noise Cancellation**\n",
            "10. **SoundScape Solace: Wireless Earbuds with 12 Hours of Immersive Audio Experience**\n",
            "\n",
            "Choose the one that resonates with your brand and product identity, and don't forget to make it attention-grabbing and easy to remember!\n",
            "\n",
            "🔹 Description:\n",
            " Here are 10 compelling product descriptions, each tailored to the corresponding product title:\n",
            "\n",
            "**1. Silence Unplugged: Proxima Wireless Earbuds with Noise Cancellation**\n",
            "\n",
            "\"Break free from distractions and immerse yourself in pure sound. Our Proxima Wireless Earbuds feature advanced noise cancellation, blocking out background noise and letting you focus on what matters. With up to 12 hours of playtime, you can enjoy your favorite tunes, podcasts, or audiobooks all day long. Experience the power of silence, unplugged.\"\n",
            "\n",
            "**2. SoundWave Freedom: 12-Hour Wireless Earbuds with Advanced Noise Cancellation**\n",
            "\n",
            "\"Unleash your inner freedom with SoundWave Freedom earbuds. Say goodbye to tangled cords and hello to 12 hours of uninterrupted sound. Our advanced noise cancellation technology ensures that you're completely absorbed in your music, podcasts, or calls. Live life on your terms, with SoundWave Freedom.\"\n",
            "\n",
            "**3. PureAudio Bliss: Long-Lasting Wireless Earbuds with Bluetooth 5.3**\n",
            "\n",
            "\"Elevate your audio experience with PureAudio Bliss earbuds. With the latest Bluetooth 5.3 technology, you'll enjoy seamless connectivity and crystal-clear sound. Plus, our long-lasting battery life means you can groove to your favorite tunes all day, worry-free. Treat your ears to the bliss they deserve.\"\n",
            "\n",
            "**4. Escape the Noise: Elite Wireless Earbuds with 12 Hours of Uninterrupted Sound**\n",
            "\n",
            "\"Escape\n",
            "\n",
            "🔹 Social Media Caption:\n",
            " Here's a short, engaging social media caption with SEO keywords for the wireless earbuds:\n",
            "\n",
            "\"Unplug and unwind with our top-rated wireless earbuds! Enjoy 12 hours of uninterrupted sound, advanced noise cancellation, and seamless Bluetooth 5.3 connectivity. Say goodbye to distractions and hello to pure audio bliss! #WirelessEarbuds #NoiseCancellation #Bluetooth53 #LongLastingBattery #PureAudio #UninterruptedSound\"\n",
            "\n",
            "This caption:\n",
            "\n",
            "* Grabs attention with a playful tone and emojis\n",
            "* Highlights the key features of the product (12-hour battery life, noise cancellation, Bluetooth 5.3)\n",
            "* Includes relevant SEO keywords (wireless earbuds, noise cancellation, Bluetooth 5.3, long-lasting battery, pure audio)\n",
            "* Ends with a call-to-action (#UninterruptedSound) to encourage engagement and drive sales\n"
          ]
        }
      ]
    }
  ]
}